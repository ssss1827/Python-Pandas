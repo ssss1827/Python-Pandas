{
 "cells": [
  {
   "cell_type": "markdown",
   "metadata": {
    "colab_type": "text",
    "id": "l_LulNCC8z96"
   },
   "source": [
    "# Simple Linear Regression"
   ]
  },
  {
   "cell_type": "code",
   "execution_count": null,
   "metadata": {},
   "outputs": [],
   "source": [
    "# Simple Linear Regression (단순 선형 회귀) 공식\n",
    "# y = b0 + b1*x1\n",
    "# y(DV) : 종속변수. 우리가 구하고자 하는 값. 보통 개인의 경력별 임금 변화 등을 나타낼 때 사용.\n",
    "    # or 학생이 공부한 시간에 따라 받는 성적\n",
    "    # 어떤 값에 따라 좌우되는 경우.\n",
    "\n",
    "# x(IV) : 독립변수. 종속변수의 값을 변화시키는 변수.\n",
    "    # x, y는 내제된 연관관계가 있음. 이걸 알아내는게 중요.\n",
    "    \n",
    "# b1 (coeffiecient) : 독립변수 x의 계수\n",
    "    # 계수는 x1의 변화가 미치는 영향을 나타냄. \n",
    "        # 이때의 x1의 변화란 x1의 단위 변경(unit change)\n",
    "             # x1의 단위 변경은 y의 단위 변경에 영향을 미침.\n",
    "                # 쉽게말해 y와 x1사이를 연결하는 장치. 그러므로 x1은 정비례한다고 할 수 있다.\n",
    "    # x의 변화가 왜 항상 y의 변화와 같은가?\n",
    "        # 비례 계수가 존재하기 때문. (비례 : 변화가 팽창하거나 수축하는 비례 기준)\n",
    "    # b1은 직선의 기울기 -> 기울기가 가파를 수록 경력에 따른 임금 상승이 더 높다.\n",
    "        # 경력이 4년차에서 -> 5년차가 됨. 임금 상승이 얼마나 이루어지는가? (b1, 즉 계수에 달림)\n",
    "            #즉 계수 b1이 작다면 기울기 또한 완만할 것이고, 이는 경력에 따른 임금의 인상 폭이 적다는 뜻.\n",
    "                # 만약 기울기가 더 크다면, 경력에 따른 임금 인상 폭이 더 크다는 뜻\n",
    "        # 빨간 점은 yi (실제 수령하는 금액)\n",
    "        # 초록 점은 yi^ (관측에 따른 추세선의 알맞은 금액 -> 추세선에 따른 값)\n",
    "            # 초록점은 즉, 해당 사원의 경력 수준에 알맞은 임금을 나타냄. (추세선이 예측하는 해당 사원의 임금)\n",
    "            # 즉, 초록색 수직선은 해당 사원이 실제로 수령하는 금액과, 원칙적으로 수령해야 하는 금액간의 차이를 나타냄\n",
    "             # 추세선을 따를 때 수령해야 마땅한 금액 \n",
    "                # 그러므로 초록색 수직선은 언제나 똑같다. 종속 변수의 종류와는 무관하게. (임금, 성적 뭐든간에)\n",
    "                    # 초록색 선은 어떤 독립 변수 수준에서 관측된 실제 데이터와, 모델링 된 데이터 간의 차이를 나타냄.\n",
    "                     # 최적선을 구할 때 각 초록색 직선의 길이를 구한 다음 이를 제곱하고 합을 구함 SUM(y - Y^)^2\n",
    "                        #제곱된 값의 합을 구했다면, 최솟값을 찾아야 함.\n",
    "                        # Simple Linear Regression은 이런 분석 추세선을 아주 많이 그림.\n",
    "                            # 수집된 관측 데이터를 토대로 가능한 모든 추세선을 그림. 공식을 매번 계산도 해줌.\n",
    "                            # 이런 모든 정보를 기록하고 최솟값을 찾는데, 공ㅅ기에서 최솟값을 찾아\n",
    "                             # 제곱의 합이 가장 적은 하나의 직선 그래프를 찾아줌.\n",
    "                                # 이때 찾아낸 linear graph 가 Best fitting line이고 \n",
    "                                    # 이를 '최소 제곱법' Ordinary least squares 이라고 함.\n",
    "        \n",
    "# b0 (Constant) : 상수\n",
    "    # 직선그래프에서 y축과 겹쳐지는 지점 ( x1 = 0 일때)"
   ]
  },
  {
   "cell_type": "code",
   "execution_count": null,
   "metadata": {},
   "outputs": [],
   "source": [
    "# ex) 임금과 경력의 연관관계\n",
    "# 임금 : y축 (구하고자 하는 것)\n",
    "# 경력 : x축\n",
    "\n",
    "# simple Linear Regression -> 임금 = b0 + b1*(경력)\n",
    "\n",
    "#방정식의 의미는. 해당 데이터에 알맞은(best fitting) 직선 그래프를 그리는 것.\n",
    "    # 즉, 데이터에 알맞은 최적의 직선 그래프\n",
    "        # 수집된 데이터에 가장 근접한 최적의 직선"
   ]
  },
  {
   "cell_type": "markdown",
   "metadata": {
    "colab_type": "text",
    "id": "xpXdowrE9DxW"
   },
   "source": [
    "## Importing the libraries"
   ]
  },
  {
   "cell_type": "code",
   "execution_count": 1,
   "metadata": {
    "colab": {},
    "colab_type": "code",
    "id": "nhKd4hWx9GFt"
   },
   "outputs": [],
   "source": [
    "import numpy as np\n",
    "import matplotlib.pyplot as plt\n",
    "import pandas as pd"
   ]
  },
  {
   "cell_type": "markdown",
   "metadata": {
    "colab_type": "text",
    "id": "6JhpWJi59J1p"
   },
   "source": [
    "## Importing the dataset"
   ]
  },
  {
   "cell_type": "code",
   "execution_count": 2,
   "metadata": {
    "colab": {},
    "colab_type": "code",
    "id": "f8GfYDZ59O18"
   },
   "outputs": [],
   "source": [
    "dataset = pd.read_csv('Salary_Data.csv')\n",
    "X = dataset.iloc[:, :-1].values\n",
    "y = dataset.iloc[:, -1].values"
   ]
  },
  {
   "cell_type": "markdown",
   "metadata": {
    "colab_type": "text",
    "id": "AyhQaTwP9RzG"
   },
   "source": [
    "## Splitting the dataset into the Training set and Test set"
   ]
  },
  {
   "cell_type": "markdown",
   "metadata": {
    "colab_type": "text",
    "id": "ZijQwFMQ9itx"
   },
   "source": [
    "## Training the Simple Linear Regression model on the Training set"
   ]
  },
  {
   "cell_type": "markdown",
   "metadata": {
    "colab_type": "text",
    "id": "wa2T1Lq89o5H"
   },
   "source": [
    "## Predicting the Test set results"
   ]
  },
  {
   "cell_type": "markdown",
   "metadata": {
    "colab_type": "text",
    "id": "-zSoMZ-P9v8t"
   },
   "source": [
    "## Visualising the Training set results"
   ]
  },
  {
   "cell_type": "markdown",
   "metadata": {
    "colab_type": "text",
    "id": "EUX1Vhsv97ZT"
   },
   "source": [
    "## Visualising the Test set results"
   ]
  },
  {
   "cell_type": "code",
   "execution_count": null,
   "metadata": {},
   "outputs": [],
   "source": []
  }
 ],
 "metadata": {
  "colab": {
   "authorship_tag": "ABX9TyP1VVwrQU8S68bmX5lftYWC",
   "name": "Simple Linear Regression",
   "provenance": [],
   "toc_visible": true
  },
  "kernelspec": {
   "display_name": "Python 3 (ipykernel)",
   "language": "python",
   "name": "python3"
  },
  "language_info": {
   "codemirror_mode": {
    "name": "ipython",
    "version": 3
   },
   "file_extension": ".py",
   "mimetype": "text/x-python",
   "name": "python",
   "nbconvert_exporter": "python",
   "pygments_lexer": "ipython3",
   "version": "3.10.9"
  }
 },
 "nbformat": 4,
 "nbformat_minor": 1
}
